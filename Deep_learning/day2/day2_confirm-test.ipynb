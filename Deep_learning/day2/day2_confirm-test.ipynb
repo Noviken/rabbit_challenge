{
 "cells": [
  {
   "cell_type": "markdown",
   "id": "b6758bdd-e4ad-452e-81a5-0395f635d6a6",
   "metadata": {},
   "source": [
    "### 深層学習 day2 確認テスト\n",
    "\n",
    "- #### Section1.勾配消失問題について-1\n",
    "    - 連鎖律の原理を使い、dz/dxを求めよ\n",
    "        - dz/dx = dz/dt * dt/dx = 2t * 1 = 2t\n",
    "        \n",
    "- #### Section1.勾配消失問題について-2\n",
    "    - シグモイド関数を微分したとき、入力値が0のときに最大値をとる。その値として正しいものを選択肢から選べ。\n",
    "        - (2) 0.25\n",
    "\n",
    "- #### Section1.勾配消失問題について-3\n",
    "    - 重みの初期値に0を設定すると、どのような問題が発生するか。\n",
    "        - モデルから表現力が失われる\n",
    "\n",
    "- #### Section1.勾配消失問題について-4\n",
    "    - 一般的に考えられるbatch正規化の効果を2点あげよ。\n",
    "        - 学習の安定化と、速度の向上\n",
    "\n",
    "- #### Section２.学習率最適化手法について-1\n",
    "    - momentum,AdaGrad,RMSPropの特徴をそれぞれ簡潔に説明せよ\n",
    "        - momentum : 慣性項のようなものによって、これまで移動してきた方向への移動に負のペナルティを与え、振動を抑える\n",
    "        - AdaGrad : 誤差をパラメタで微分したものと、”再定義した”学習率の積を減算する.それまでの更新が小さい次元の方向へ更新されやすくなる\n",
    "        - RMSProp : 誤差をパラメタで微分したものと、”再定義した”学習率の積を減算する。AdaGradにおける過去の蓄積に減衰がかかるイメージ\n",
    "\n",
    "- #### Section3.過学習について-1\n",
    "    - 機械学習で使われる線形モデルの正則化は、モデルの重みを制限することで可能となる。その手法に中にリッジ回帰という手法があり、その特徴として正しいものを選択しなさい\n",
    "        - (a) ハイパーパラメタを大きな値に設定すると、全ての重みが限りなく0に近づく\n",
    "\n",
    "- #### Section3.過学習について-2\n",
    "    - 下図について、L1正則化を表しているグラフはどちらか\n",
    "        - 右図（Lasso)\n",
    "\n",
    "- #### Section4.畳み込みニューラルネットワークの概念-1\n",
    "    - サイズ6*6の入力画像を、サイズ2*2のフィルタで畳み込んだときの出力画像のサイズを答えよ、ただし、ストライドとパディングは1とする\n",
    "        - 7*7\n",
    "\n"
   ]
  },
  {
   "cell_type": "code",
   "execution_count": null,
   "id": "d8a73bc9-6eb8-4624-b9d4-982b52245085",
   "metadata": {},
   "outputs": [],
   "source": []
  }
 ],
 "metadata": {
  "kernelspec": {
   "display_name": "Python 3",
   "language": "python",
   "name": "python3"
  },
  "language_info": {
   "codemirror_mode": {
    "name": "ipython",
    "version": 3
   },
   "file_extension": ".py",
   "mimetype": "text/x-python",
   "name": "python",
   "nbconvert_exporter": "python",
   "pygments_lexer": "ipython3",
   "version": "3.9.2"
  }
 },
 "nbformat": 4,
 "nbformat_minor": 5
}
