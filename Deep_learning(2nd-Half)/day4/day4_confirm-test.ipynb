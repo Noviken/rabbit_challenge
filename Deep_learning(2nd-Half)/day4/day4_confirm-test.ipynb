{
 "cells": [
  {
   "cell_type": "markdown",
   "id": "b6758bdd-e4ad-452e-81a5-0395f635d6a6",
   "metadata": {},
   "source": [
    "### 深層学習 day4 確認テスト\n",
    "\n",
    "- #### Section4 応用モデル-1\n",
    "    - Depthwise Convolutionはチャネル毎に空間方向へ畳み込む。すなわち、チャネル毎にDk×Dk×１のサイズのフィルターをそれぞれ用いて計算を行うため、その計算量は（い）となる。\n",
    "        - $ HWC{D_{k}}^2  $\n",
    "\n",
    "- #### Section4 応用モデル-2\n",
    "    - 次にDepthwise Convolutionの出力をPointwise Convolutionによってチャネル方向に畳み込む。すなわち、出力チャネル毎に1×1×Mサイズのフィルターをそれぞれ用いて計算を行うため、その計算量は（う）となる。\n",
    "        - $ HWCM $\n",
    "\n",
    "- #### Section4 応用モデル-3\n",
    "    - 下記の（a）内に当てはまる単語はどれか。『深層学習を用いて結合確率を学習する際に、効率的に学習が行えるアーキテクチャを提案したことがWaveNetの大きな貢献の１つである。提案された新しいConvolution型アーキテクチャは（a）と呼ばれ、結合確率を効率的に学習できるようになっている。』\n",
    "        - Dilated causal convolution\n",
    "\n",
    "- #### Section4 応用モデル-4\n",
    "    - 下記の（b）内に当てはまる単語はどれか。『(a)を用いた際の大きな利点は、単純なconvolution layerと比べて(b)ことである』\n",
    "        - パラメタ数に対する受容野が広い\n"
   ]
  },
  {
   "cell_type": "code",
   "execution_count": null,
   "id": "9d241605-2b60-4106-8924-c16331a7df8d",
   "metadata": {},
   "outputs": [],
   "source": []
  }
 ],
 "metadata": {
  "kernelspec": {
   "display_name": "Python 3",
   "language": "python",
   "name": "python3"
  },
  "language_info": {
   "codemirror_mode": {
    "name": "ipython",
    "version": 3
   },
   "file_extension": ".py",
   "mimetype": "text/x-python",
   "name": "python",
   "nbconvert_exporter": "python",
   "pygments_lexer": "ipython3",
   "version": "3.9.2"
  }
 },
 "nbformat": 4,
 "nbformat_minor": 5
}
