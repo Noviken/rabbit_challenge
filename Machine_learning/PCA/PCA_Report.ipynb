{
 "cells": [
  {
   "cell_type": "markdown",
   "id": "b6758bdd-e4ad-452e-81a5-0395f635d6a6",
   "metadata": {},
   "source": [
    "### PCA（主成分分析)　レポート\n",
    "\n",
    "- 次元削減に用いられる\n",
    "    - 変数間に相関がある場合に有効\n",
    "- 元データの変数から、新たな変数を生成する\n",
    "- 線形変換後の変数の分散が最大となる射影軸を探索\n",
    "    - 分散が大きい＝データによってその変数が様々な値を持つので、重要といえる\n",
    "- 分散共分散行列の固有値問題を解くことと同じ\n",
    "- 寄与率\n",
    "    - 主成分の総分散は、元データの総分散と一致する\n",
    "    - 寄与率：第k主成分の分散の、全分散に対する割合（第k主成分が持つ情報量の割合）\n",
    "    - 累積寄与率：第1~第k成分の分散の総和の、全分散に対する割合→第k成分までを採用したとき、どの程度の情報量が保たれるか\n",
    "        - 全変数間に相関がなければ、全n成分として、累積寄与率はn/k程度になるはず\n"
   ]
  }
 ],
 "metadata": {
  "kernelspec": {
   "display_name": "Python 3",
   "language": "python",
   "name": "python3"
  },
  "language_info": {
   "codemirror_mode": {
    "name": "ipython",
    "version": 3
   },
   "file_extension": ".py",
   "mimetype": "text/x-python",
   "name": "python",
   "nbconvert_exporter": "python",
   "pygments_lexer": "ipython3",
   "version": "3.9.2"
  }
 },
 "nbformat": 4,
 "nbformat_minor": 5
}
